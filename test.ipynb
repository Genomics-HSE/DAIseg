{
 "cells": [
  {
   "cell_type": "code",
   "execution_count": 4,
   "id": "fdf9ccfd-e03c-4bc5-8e60-1ac63d97104f",
   "metadata": {},
   "outputs": [],
   "source": [
    "import sims\n",
    "import numpy as np\n",
    "import msprime\n",
    "import pandas as pd\n",
    "\n",
    "import useful\n",
    "import seaborn\n",
    "import matplotlib\n",
    "from matplotlib import pyplot as plt\n",
    "from importlib import reload\n"
   ]
  },
  {
   "cell_type": "code",
   "execution_count": 5,
   "id": "5222edba-8556-40ed-b457-5b9721bd67a1",
   "metadata": {},
   "outputs": [],
   "source": [
    "# Generation time, mutation rate and recomination rate\n",
    "RR = 1e-8\n",
    "MU = 1.29e-8 \n",
    "GEN_time = 29.0 \n",
    "\n",
    "# Split Times\n",
    "T_NEAND_migration = 55000 #time of Neanderthal migration into Out_of_africa population\n",
    "T_NEAND_AMH = 550000 # split time between AMH and Neanderthal\n",
    "T_OOF_AF = 65700 # Out_of_Africa migration time\n",
    "T_NEAND_samples = 38000\n",
    "\n",
    "# Effective population size\n",
    "N_ANC = 18500 # N_e of common  AMH and NEanderthal population \n",
    "N_ND = 3400 # N_e of Neanderthal\n",
    "N_AMH = 23000 # N_e of AMH\n",
    "N_OOF = 1861 # N_e of Out_of_Africa population\n",
    "N_AF = 27600 # N_e of Africans\n",
    "N_EU = 13377 #N_e of Europeans\n",
    "\n",
    "N_EU_bottleneck = 1080\n",
    "N_EU_growth = 1450\n",
    "T_EU_growth = 31900\n",
    "gr_rate = 0.00202\n",
    "Portion_admix = 0.03\n",
    "\n",
    "len_sequence = 5e7 # DNA sequence length\n",
    "\n",
    "n = 500 # number of generated   AF samples\n",
    "n_neand = 10 #number of generated Neanderthals\n",
    "\n",
    "rand_sd =1234 #random seed\n",
    "\n",
    "T = np.array([T_NEAND_migration, T_NEAND_AMH, T_OOF_AF])/GEN_time"
   ]
  },
  {
   "cell_type": "code",
   "execution_count": 6,
   "id": "3f3093ce-6e0e-4cc9-95d4-9560763a3b02",
   "metadata": {},
   "outputs": [
    {
     "name": "stdout",
     "output_type": "stream",
     "text": [
      "Neand ancestry:  [0.0581084, 0.0512835]\n"
     ]
    }
   ],
   "source": [
    "N_ND = 3400 # N_e of Neanderthal\n",
    "N_e = np.array([N_ANC, N_ND, N_AMH, N_OOF, N_AF, N_EU])\n",
    "\n",
    "n_eu=2\n",
    "ts3400 =sims.history_archaic(GEN_time, len_sequence, RR, MU, N_e, T,  n, rand_sd, n_neand,  \n",
    "                          T_NEAND_samples/GEN_time, n_eu, N_EU_growth, \n",
    "                          T_EU_growth/GEN_time, N_EU_bottleneck, gr_rate, Portion_admix)\n",
    "sims.print_neand_dosages(ts3400)"
   ]
  },
  {
   "cell_type": "code",
   "execution_count": 7,
   "id": "9a3fe960-36b6-4449-b708-834814adfe50",
   "metadata": {},
   "outputs": [
    {
     "name": "stdout",
     "output_type": "stream",
     "text": [
      "Done 0\n",
      "средняя доля неандертальца 0.05469595\n"
     ]
    }
   ],
   "source": [
    "ND_true_tracts = []\n",
    "for idx in range(0, n_eu): \n",
    "    if (idx % 20) ==0:\n",
    "        print('Done', idx)\n",
    "    ND_true_tracts.append( sims.get_migrating_tracts_ind(ts3400, 'NEAND', idx, T[0]))      \n",
    "   \n",
    "s=0\n",
    "for i in range(n_eu):\n",
    "    for j in ND_true_tracts[i]:\n",
    "        s+=j[1]-j[0]    \n",
    "print('средняя доля неандертальца',s/(n_eu * len_sequence))"
   ]
  },
  {
   "cell_type": "code",
   "execution_count": 8,
   "id": "cdbb589b-810c-499d-8ba3-054cc1d81ec0",
   "metadata": {},
   "outputs": [],
   "source": [
    "N_ref_pop=250\n",
    "N_neanderthal=4\n",
    "N=2\n",
    "with open('make.obs.sims.txt', 'w') as f:\n",
    "    f.write('#POSITIONS\\t#REF\\t#ALT\\tANCESTRAL\\t#OUTGROUP\\t#ARCHAIC\\t#OBSERVATIONS\\n')\n",
    "    for v in ts3400.variants():\n",
    "        outgroup= str(list(set(v.genotypes[n_eu :( n_eu+N_ref_pop)]))).replace('[','').replace(']','').replace(' ','')\n",
    "        archaic= str(list(set(v.genotypes[n_eu+n :( n_eu+n+N_neanderthal)]))).replace('[','').replace(']','').replace(' ','')\n",
    "\n",
    "        obs=''\n",
    "        for i in v.genotypes[0 :n_eu]:\n",
    "            obs+=str(i)+' '\n",
    "\n",
    "\n",
    "\n",
    "        f.write(str(int(v.site.position))+'\\t'+str(v.alleles[0])+'\\t'+\n",
    "                str(v.alleles[1]) + '\\t'+ str(0)+'\\t' + outgroup+'\\t'+archaic+'\\t'+str(obs)+'\\n')    "
   ]
  },
  {
   "cell_type": "code",
   "execution_count": 9,
   "id": "09310ca3-8ceb-4d2a-89d6-bd8c2829b80e",
   "metadata": {},
   "outputs": [],
   "source": [
    "L=1000\n",
    "\n",
    "#create bed file\n",
    "with open('test.bed','w') as f:\n",
    "    f.write('1\\t0\\t'+str(int(len_sequence)-1)+'\\n')\n",
    "\n",
    "\n",
    "\n",
    "f_bed='test.bed'\n",
    "domain=useful.read_bed(f_bed)\n",
    "\n",
    "n_windows=(domain[-1][1]-domain[0][0])//L + 1\n",
    "windows_cover=np.ones(n_windows)*0.999\n",
    "\n",
    "#create archaic covering file. \n",
    "CHR=1\n",
    "with open('arch.covering.chr'+str(CHR)+'.txt','w') as f:\n",
    "    for j in windows_cover:\n",
    "        f.write(str(j)+'\\n')\n",
    "\n",
    "\n",
    "#create file with sample's names\n",
    "with open('samples.txt','w') as f:\n",
    "    for i in range(int(n_eu/2)):\n",
    "        f.write('eu'+str(i)+'\\n')"
   ]
  },
  {
   "cell_type": "code",
   "execution_count": 12,
   "id": "9ef2fb07-677a-4ca1-9c9d-7c6a2ec3985b",
   "metadata": {},
   "outputs": [],
   "source": [
    "! python3 dai.seg.py --obs_samples samples.txt --bed test.bed   --HMM_par par.file.txt --EM no --prepared_file make.obs.sims.txt --o out --arch_cover arch.covering.chr1.txt --decoding posterior --cut_off 0.8"
   ]
  },
  {
   "cell_type": "code",
   "execution_count": 9,
   "id": "2e216879-137f-41db-b6f4-a3d728c2edab",
   "metadata": {},
   "outputs": [
    {
     "name": "stdout",
     "output_type": "stream",
     "text": [
      "Число шагов в EM -алгоритме 8\n"
     ]
    }
   ],
   "source": [
    "! python3 dai.seg.py --obs_samples samples.txt --bed test.bed   --HMM_par par.file.txt --EM yes --EM_steps 10 --prepared_file make.obs.sims.txt --o out.EM --arch_cover arch.covering.chr1.txt"
   ]
  },
  {
   "cell_type": "code",
   "execution_count": 14,
   "id": "85aff461-71a7-4983-a519-ebfca71c0dc0",
   "metadata": {},
   "outputs": [],
   "source": [
    "\n",
    "ND_HMM_tracts=useful.read_out('out.archaic.txt')\n",
    "\n",
    "HMM_tracts=[]\n",
    "REAL_tracts=[]\n",
    "for idx in range(n_eu):\n",
    "    HMM_tracts.append([useful.tracts_eu(ND_HMM_tracts[idx], len_sequence ), ND_HMM_tracts[idx]])\n",
    "    REAL_tracts.append([ useful.tracts_eu(ND_true_tracts[idx], len_sequence), ND_true_tracts[idx]])\n",
    "\n",
    "df=useful.df_result(REAL_tracts, HMM_tracts, N_neanderthal, L, N_ref_pop, n_eu, N)"
   ]
  },
  {
   "cell_type": "code",
   "execution_count": 13,
   "id": "e95090f1-553c-49a6-bdab-aa3b3b074fe6",
   "metadata": {},
   "outputs": [],
   "source": [
    "\n",
    "ND_HMM_tracts=useful.read_out('out.EM.txt')\n",
    "\n",
    "HMM_tracts=[]\n",
    "REAL_tracts=[]\n",
    "for idx in range(n_eu):\n",
    "    HMM_tracts.append([useful.tracts_eu(ND_HMM_tracts[idx], len_sequence ), ND_HMM_tracts[idx]])\n",
    "    REAL_tracts.append([ useful.tracts_eu(ND_true_tracts[idx], len_sequence), ND_true_tracts[idx]])\n",
    "\n",
    "df2=useful.df_result(REAL_tracts, HMM_tracts, N_neanderthal, L, N_ref_pop, n_eu, N)"
   ]
  },
  {
   "cell_type": "code",
   "execution_count": null,
   "id": "b27345b7-3b2a-449d-9993-7c5d567de707",
   "metadata": {},
   "outputs": [],
   "source": []
  },
  {
   "cell_type": "code",
   "execution_count": null,
   "id": "2caf23d6-5a5d-4dff-9490-aa9b777a7832",
   "metadata": {},
   "outputs": [],
   "source": []
  }
 ],
 "metadata": {
  "kernelspec": {
   "display_name": "Python 3 (ipykernel)",
   "language": "python",
   "name": "python3"
  },
  "language_info": {
   "codemirror_mode": {
    "name": "ipython",
    "version": 3
   },
   "file_extension": ".py",
   "mimetype": "text/x-python",
   "name": "python",
   "nbconvert_exporter": "python",
   "pygments_lexer": "ipython3",
   "version": "3.8.10"
  }
 },
 "nbformat": 4,
 "nbformat_minor": 5
}
